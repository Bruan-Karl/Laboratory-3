{
  "nbformat": 4,
  "nbformat_minor": 0,
  "metadata": {
    "colab": {
      "name": "201911167_LinAlg2.1_Bruan",
      "provenance": [],
      "authorship_tag": "ABX9TyOd2o5W1fI08ZaMr4l0TThW",
      "include_colab_link": true
    },
    "kernelspec": {
      "name": "python3",
      "display_name": "Python 3"
    }
  },
  "cells": [
    {
      "cell_type": "markdown",
      "metadata": {
        "id": "view-in-github",
        "colab_type": "text"
      },
      "source": [
        "<a href=\"https://colab.research.google.com/github/R0ckie/Laboratory-3/blob/main/201911167_LinAlg3_Bruan.ipynb\" target=\"_parent\"><img src=\"https://colab.research.google.com/assets/colab-badge.svg\" alt=\"Open In Colab\"/></a>"
      ]
    },
    {
      "cell_type": "markdown",
      "metadata": {
        "id": "yGCll3U4ncLq"
      },
      "source": [
        "**TASK 1**"
      ]
    },
    {
      "cell_type": "code",
      "metadata": {
        "colab": {
          "base_uri": "https://localhost:8080/",
          "height": 269
        },
        "id": "IaBwAuLVDHCU",
        "outputId": "489c930a-79ee-4dd2-d19d-a34173f68982"
      },
      "source": [
        "import numpy as np\n",
        "import matplotlib.pyplot as plt\n",
        "\n",
        "vectorK = np.array([3,6])\n",
        "vectorL = np.array([7,9])\n",
        "\n",
        "scalarB = np.arange(-3,1,0.0125)\n",
        "scalarR = np.arange(-10,10,0.0125)\n",
        "\n",
        "plt.scatter(scalarB * vectorK[0], scalarB * vectorK[1],\n",
        "            label = \"Scalar 1 * Vector 1\",\n",
        "            color= 'orange')\n",
        "plt.scatter(scalarB * vectorL[0], scalarB * vectorL[1],\n",
        "            label = \"Scalar 1 * Vector 2\",\n",
        "            color = \"blue\")\n",
        "\n",
        "plt.xlim(-20,10)\n",
        "plt.ylim(-20,10)\n",
        "plt.axhline(y=0, color='black')\n",
        "plt.axvline(x=0, color='black')\n",
        "plt.grid()\n",
        "plt.legend()\n",
        "plt.show()"
      ],
      "execution_count": 11,
      "outputs": [
        {
          "output_type": "display_data",
          "data": {
            "image/png": "[encoded data removed]",
            "text/plain": [
              "<Figure size 432x288 with 1 Axes>"
            ]
          },
          "metadata": {
            "tags": [],
            "needs_background": "light"
          }
        }
      ]
    },
    {
      "cell_type": "markdown",
      "metadata": {
        "id": "i-TA8tH4nq-6"
      },
      "source": [
        "**TASK 2**"
      ]
    },
    {
      "cell_type": "code",
      "metadata": {
        "colab": {
          "base_uri": "https://localhost:8080/",
          "height": 269
        },
        "id": "S5UW_GCCYAi-",
        "outputId": "56845f44-6e8f-4a38-ba7f-45aebd864cf1"
      },
      "source": [
        "import numpy as np\n",
        "import matplotlib.pyplot as plt\n",
        "\n",
        "vectorK = np.array([3,6])\n",
        "vectorL = np.array([4,2])\n",
        "\n",
        "scalarB = np.arange(-12,12,0.0125)\n",
        "scalarR = np.arange(-5,5,0.0125)\n",
        "scalarU = np.arange(-10, 10, 0.125)\n",
        "\n",
        "r1, r2 = np.meshgrid(scalarB, scalarB)\n",
        "r3, r4 = np.meshgrid(scalarR, scalarR)\n",
        "r5, r6 = np.meshgrid(scalarU, scalarU)\n",
        "\n",
        "spanScalarBx = r1 * vectorK[0] + r2 * vectorL[0]\n",
        "spanScalarBy = r1 * vectorK[1] + r2 *vectorL[1]\n",
        "plt.scatter(spanScalarBx, spanScalarBy, s=10, alpha = 0.75,\n",
        "            label = \"SPAN 1\" ,color = \"black\")\n",
        "\n",
        "spanScalarRx = r3 * vectorK[0] + r4 * vectorL[0]\n",
        "spanScalarRy = r3 * vectorK[1] + r4 * vectorL[1]\n",
        "plt.scatter(spanScalarRx, spanScalarRy, s=10, alpha = 0.75,\n",
        "            label = \"SPAN 2\", color = \"red\")\n",
        "\n",
        "spanScalarUx = r5 * vectorK[0] + r6 * vectorL[0]\n",
        "spanScalarUy = r5 * vectorK[0] + r6 * vectorL[0]\n",
        "plt.scatter(spanScalarUx, spanScalarUy, s=10 , alpha = 0.75,\n",
        "            label = \"SPAN 2\" , color = \"yellow\")\n",
        "''''\n",
        "plt.scatter(scalarB * vectorK[0], scalarB * vectorK[1],\n",
        "            label = \"Scalar 1 * Vector 1\",\n",
        "            color= 'orange')\n",
        "plt.scatter(scalarB * vectorL[0], scalarB * vectorL[1],\n",
        "            label = \"Scalar 1 * Vector 2\",\n",
        "            color = \"blue\")\n",
        "'''\n",
        "plt.xlim(-100,100)\n",
        "plt.ylim(-100,100)\n",
        "plt.axhline(y=0, color='black')\n",
        "plt.axvline(x=0, color='black')\n",
        "plt.grid()\n",
        "plt.legend()\n",
        "plt.show()\n"
      ],
      "execution_count": 2,
      "outputs": [
        {
          "output_type": "display_data",
          "data": {
            "image/png": "[encoded data removed]",
            "text/plain": [
              "<Figure size 432x288 with 1 Axes>"
            ]
          },
          "metadata": {
            "tags": [],
            "needs_background": "light"
          }
        }
      ]
    }
  ]
}